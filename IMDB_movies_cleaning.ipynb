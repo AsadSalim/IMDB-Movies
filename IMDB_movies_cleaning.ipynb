{
 "cells": [
  {
   "cell_type": "code",
   "execution_count": 1,
   "id": "e05cf1f0",
   "metadata": {},
   "outputs": [],
   "source": [
    "# Ken Jee's Playlist Data Science Project From Scratch helped me so much during the cleaning process\n",
    "# https://www.youtube.com/playlist?list=PL2zq7klxX5ASFejJj80ob9ZAnBHdz5O1t"
   ]
  },
  {
   "cell_type": "code",
   "execution_count": null,
   "id": "82510c67",
   "metadata": {},
   "outputs": [],
   "source": [
    "import numpy as np\n",
    "import pandas as pd\n",
    "import matplotlib.pyplot as plt\n",
    "from googletrans import Translator\n",
    "import seaborn as sns"
   ]
  },
  {
   "cell_type": "code",
   "execution_count": 2,
   "id": "62a72436",
   "metadata": {},
   "outputs": [],
   "source": [
    "df = pd.read_csv(r\"C:\\Users\\Asaad_Salem\\Projects\\IMDb-movies\\IMDb-movies-data0.csv\")"
   ]
  },
  {
   "cell_type": "code",
   "execution_count": 3,
   "id": "81b19eb6",
   "metadata": {},
   "outputs": [
    {
     "data": {
      "text/plain": [
       "Index(['Movie_title', 'Year', 'Run_time', 'Genre', 'Rank', 'Metascore',\n",
       "       'Certificate', 'Director_Star', 'Gross_revenue'],\n",
       "      dtype='object')"
      ]
     },
     "execution_count": 3,
     "metadata": {},
     "output_type": "execute_result"
    }
   ],
   "source": [
    "df.columns"
   ]
  },
  {
   "cell_type": "code",
   "execution_count": 4,
   "id": "b1f7cf5d",
   "metadata": {},
   "outputs": [],
   "source": [
    "# Fist of all I'll clean the columns one by one\n",
    "# 1\\ Movie_title: As I can see there are some words that came in Arabic we need to\n",
    "#    translate that into English\n",
    "\n",
    "translator = Translator()\n",
    "Title = df['Movie_title'].apply(lambda x: translator.translate(x, 'en').text)\n",
    "\n",
    "# After inspecting the column I found one movie title that is mispelled,\n",
    "# so I have to clean it manually\n",
    "Title = Title.replace('Did Boits Société', 'Dead Poets Society')\n",
    "df['Movie_title'] = Title"
   ]
  },
  {
   "cell_type": "code",
   "execution_count": 5,
   "id": "c5bc9750",
   "metadata": {},
   "outputs": [],
   "source": [
    "# 2\\ Year: We need to get rid of the parenthesis and change the data type to date\n",
    "\n",
    "df['Year'] = df['Year'].apply(lambda x: x.replace('(I)', '').strip())\n",
    "df['Year'] = df['Year'].apply(lambda x: x.replace('(II)', '').strip())\n",
    "df['Year'] = df['Year'].apply(lambda x: x.replace('(III)', ''))\n",
    "df['Year'] = df['Year'].apply(lambda x: x.replace('(','').replace(')','').strip())\n",
    "# We need to drop row 767 since it's a Tv series not a movie\n",
    "df.drop(767, inplace = True)\n",
    "\n",
    "df['Year'] = df['Year'].apply(lambda x: int(x))"
   ]
  },
  {
   "cell_type": "code",
   "execution_count": 6,
   "id": "13d9b410",
   "metadata": {},
   "outputs": [],
   "source": [
    "# 3\\ Run_time: we need to get rid of the min to be able to use it for analysis\n",
    "df['Run_time'] = df['Run_time'].apply(lambda x: int(x.replace('min', '').strip()))"
   ]
  },
  {
   "cell_type": "code",
   "execution_count": 7,
   "id": "4214f84a",
   "metadata": {},
   "outputs": [],
   "source": [
    "# 4\\ Metascore: we need to strip the values as they there is a space. \n",
    "df['Metascore'] = df['Metascore'].apply(lambda x: int(x.strip()) if x != '-' else None)"
   ]
  },
  {
   "cell_type": "code",
   "execution_count": 8,
   "id": "4a2f363b",
   "metadata": {},
   "outputs": [],
   "source": [
    "# 5\\ Director-Star: we need to split the content of the column\n",
    "Star = df['Director_Star'].apply(lambda x: x.split('Stars:')[1])\n",
    "df['Stars'] = Star.apply(lambda x: x.split('-'))"
   ]
  },
  {
   "cell_type": "code",
   "execution_count": null,
   "id": "0a5a8f85",
   "metadata": {},
   "outputs": [],
   "source": []
  },
  {
   "cell_type": "code",
   "execution_count": 9,
   "id": "0b418f5f",
   "metadata": {},
   "outputs": [],
   "source": [
    "Dir = df['Director_Star'].apply(lambda x: x.split('Stars:')[0])\n",
    "Dir = Dir.apply(lambda x: x.replace('Director:','').replace('Directors:','').strip())\n",
    "Dir = Dir.apply(lambda x: x.split('-'))\n",
    "df['Directors'] = Dir"
   ]
  },
  {
   "cell_type": "code",
   "execution_count": 10,
   "id": "bf9bfc0b",
   "metadata": {},
   "outputs": [],
   "source": [
    "# 6\\ Gross revenue: We need to get rid of the $ sign and the M for million\n",
    "df['Gross_revenue'] = df['Gross_revenue'].apply(lambda x: x[1:-1])\n",
    "df['Gross_revenue'] = df['Gross_revenue'].apply(lambda x: float(x) if x else None)"
   ]
  },
  {
   "cell_type": "code",
   "execution_count": 11,
   "id": "93658533",
   "metadata": {},
   "outputs": [],
   "source": [
    "# 7\\ Genre: Genre column should be seperated into 3 columns \n",
    "df['Genre'] = df['Genre'].apply(lambda x: x.replace('Sci-Fi', 'Sci_Fi'))\n",
    "df['Genres'] = df['Genre'].str.split('-')"
   ]
  },
  {
   "cell_type": "code",
   "execution_count": 12,
   "id": "73e29ab2",
   "metadata": {},
   "outputs": [],
   "source": [
    "# 8\\ Certificate: We need to replace the '-' value by 'Not Rated'\n",
    "df['Certificate'] = df['Certificate'].apply(lambda x: x.replace('-', 'Not Rated'))"
   ]
  },
  {
   "cell_type": "code",
   "execution_count": 13,
   "id": "9d07b405",
   "metadata": {},
   "outputs": [
    {
     "data": {
      "text/plain": [
       "Index(['Movie_title', 'Year', 'Run_time', 'Genre', 'Rank', 'Metascore',\n",
       "       'Certificate', 'Director_Star', 'Gross_revenue', 'Stars', 'Directors',\n",
       "       'Genres'],\n",
       "      dtype='object')"
      ]
     },
     "execution_count": 13,
     "metadata": {},
     "output_type": "execute_result"
    }
   ],
   "source": [
    "df.columns"
   ]
  },
  {
   "cell_type": "code",
   "execution_count": 15,
   "id": "583516d1",
   "metadata": {},
   "outputs": [],
   "source": [
    "# We need to drop unneeded columns\n",
    "df.drop(['Genre', 'Director_Star'], axis=1, inplace = True)"
   ]
  },
  {
   "cell_type": "code",
   "execution_count": 16,
   "id": "ad983f47",
   "metadata": {},
   "outputs": [
    {
     "data": {
      "text/plain": [
       "Index(['Movie_title', 'Year', 'Run_time', 'Rank', 'Metascore', 'Certificate',\n",
       "       'Gross_revenue', 'Stars', 'Directors', 'Genres'],\n",
       "      dtype='object')"
      ]
     },
     "execution_count": 16,
     "metadata": {},
     "output_type": "execute_result"
    }
   ],
   "source": [
    "df.columns"
   ]
  },
  {
   "cell_type": "code",
   "execution_count": 17,
   "id": "d9ee3b4f",
   "metadata": {},
   "outputs": [
    {
     "data": {
      "text/plain": [
       "Movie_title       0\n",
       "Year              0\n",
       "Run_time          0\n",
       "Rank              0\n",
       "Metascore        38\n",
       "Certificate       0\n",
       "Gross_revenue    61\n",
       "Stars             0\n",
       "Directors         0\n",
       "Genres            0\n",
       "dtype: int64"
      ]
     },
     "execution_count": 17,
     "metadata": {},
     "output_type": "execute_result"
    }
   ],
   "source": [
    "# Number of missing value in each remaining column\n",
    "df.isnull().sum()"
   ]
  },
  {
   "cell_type": "code",
   "execution_count": 18,
   "id": "5362b5bf",
   "metadata": {},
   "outputs": [
    {
     "name": "stdout",
     "output_type": "stream",
     "text": [
      "                                           Movie_title  Year  Run_time  Rank  \\\n",
      "65                                    Sunset Boulevard  1950       110   8.4   \n",
      "67                         Witness for the Prosecution  1957       116   8.4   \n",
      "83                                  Go and have a look  1985       142   8.3   \n",
      "98   A death row inmate has escaped or the wind blo...  1956       101   8.3   \n",
      "163                                               hate  1995        98   8.1   \n",
      "168                                         White Heat  1949       114   8.1   \n",
      "174                                      Mary and Max.  2009        92   8.1   \n",
      "176                             the four hundred Blows  1959        99   8.1   \n",
      "179       Hearts of Darkness: A Filmmaker's Apocalypse  1991        96   8.1   \n",
      "231                           Kind Hearts and Coronets  1949       106   8.0   \n",
      "232                         A Matter of Life and Death  1946       104   8.0   \n",
      "237                                   The Class of '92  2013        99   8.0   \n",
      "287                            Angels with Dirty Faces  1938        97   7.9   \n",
      "288                                 Sullivan's Travels  1941        90   7.9   \n",
      "351                                    His Girl Friday  1940        92   7.8   \n",
      "415                                    without a trace  1988       107   7.7   \n",
      "420                         addiction hundred sam tama  1992       128   7.7   \n",
      "494                               The Long Good Friday  1980       114   7.6   \n",
      "495                                         The Castle  1997        85   7.6   \n",
      "498                                           Cell 211  2009       113   7.6   \n",
      "501               Enron: The Smartest Guys in the Room  2005       110   7.6   \n",
      "565                                         holy blood  1989       123   7.5   \n",
      "566                                 A Bittersweet Life  2005       119   7.5   \n",
      "759                                           The ring  1998        96   7.2   \n",
      "766                                    Good Vibrations  2012       103   7.2   \n",
      "790                                      Planet Terror  2007       105   7.1   \n",
      "817                                Manhattan Melodrama  1934        93   7.1   \n",
      "819                                    The Butcher Boy  1997       110   7.1   \n",
      "856                                    White Lightnin'  2009        92   7.0   \n",
      "883                                               Taxi  1998        86   6.9   \n",
      "888                                     Save the Tiger  1973       100   6.9   \n",
      "892                                                Ned  2010       124   6.9   \n",
      "907                                       Dog Soldiers  2002       105   6.8   \n",
      "909                                  Cemetery Junction  2010        95   6.8   \n",
      "920                                        Performance  1970       105   6.8   \n",
      "935                                       Julia's eyes  2010       118   6.7   \n",
      "959                                        The Funeral  1996        99   6.6   \n",
      "980                                      The Addiction  1995        82   6.4   \n",
      "\n",
      "     Metascore    Certificate  Gross_revenue  \\\n",
      "65         NaN  PGNot Rated15            NaN   \n",
      "67         NaN              G           8.18   \n",
      "83         NaN      Not Rated            NaN   \n",
      "98         NaN      Not Rated            NaN   \n",
      "163        NaN      Not Rated           0.31   \n",
      "168        NaN      Not Rated            NaN   \n",
      "174        NaN      Not Rated            NaN   \n",
      "176        NaN      Not Rated            NaN   \n",
      "179        NaN              R           1.32   \n",
      "231        NaN      Not Rated            NaN   \n",
      "232        NaN             PG            NaN   \n",
      "237        NaN      Not Rated            NaN   \n",
      "287        NaN      Not Rated            NaN   \n",
      "288        NaN      Not Rated            NaN   \n",
      "351        NaN      Not Rated           0.30   \n",
      "415        NaN      Not Rated            NaN   \n",
      "420        NaN              R            NaN   \n",
      "494        NaN      Not Rated            NaN   \n",
      "495        NaN              R           0.86   \n",
      "498        NaN      Not Rated            NaN   \n",
      "501        NaN      Not Rated            NaN   \n",
      "565        NaN  NCNot Rated17            NaN   \n",
      "566        NaN      Not Rated            NaN   \n",
      "759        NaN      Not Rated            NaN   \n",
      "766        NaN      Not Rated            NaN   \n",
      "790        NaN      Not Rated            NaN   \n",
      "817        NaN      Not Rated            NaN   \n",
      "819        NaN              R           1.82   \n",
      "856        NaN      Not Rated            NaN   \n",
      "883        NaN      Not Rated           0.27   \n",
      "888        NaN      Not Rated           2.33   \n",
      "892        NaN      Not Rated            NaN   \n",
      "907        NaN              R            NaN   \n",
      "909        NaN            18+            NaN   \n",
      "920        NaN              R           0.19   \n",
      "935        NaN      Not Rated            NaN   \n",
      "959        NaN              R           1.23   \n",
      "980        NaN      Not Rated           0.30   \n",
      "\n",
      "                                                 Stars  \\\n",
      "65   [William Holden,  Gloria Swanson,  Erich von S...   \n",
      "67   [Tyrone Power,  Marlene Dietrich,  Charles Lau...   \n",
      "83   [Aleksey Kravchenko,  Olga Mironova,  Liubomir...   \n",
      "98   [François Leterrier,  Charles Le Clainche,  Ma...   \n",
      "163  [Vincent Cassel,  Hubert Koundé,  Saïd Taghmao...   \n",
      "168  [James Cagney,  Virginia Mayo,  Edmond O'Brien...   \n",
      "174  [Toni Collette,  Philip Seymour Hoffman,  Eric...   \n",
      "176  [Jean, Pierre Léaud,  Albert Rémy,  Claire Mau...   \n",
      "179  [Dennis Hopper,  Martin Sheen,  Marlon Brando,...   \n",
      "231  [Dennis Price,  Alec Guinness,  Valerie Hobson...   \n",
      "232  [David Niven,  Kim Hunter,  Robert Coote,  Kat...   \n",
      "237  [David Beckham,  Nicky Butt,  Ryan Giggs,  Gar...   \n",
      "287  [James Cagney,  Pat O'Brien,  Humphrey Bogart,...   \n",
      "288  [Joel McCrea,  Veronica Lake,  Robert Warwick,...   \n",
      "351  [Cary Grant,  Rosalind Russell,  Ralph Bellamy...   \n",
      "415  [Bernard, Pierre Donnadieu,  Gene Bervoets,  J...   \n",
      "420  [Chow Yun, Fat,  Tony Chiu, Wai Leung,  Teresa...   \n",
      "494  [Bob Hoskins,  Helen Mirren,  Paul Freeman,  L...   \n",
      "495  [Michael Caton,  Anne Tenney,  Stephen Curry, ...   \n",
      "498  [Luis Tosar,  Alberto Ammann,  Antonio Resines...   \n",
      "501  [John Beard,  Tim Belden,  Barbara Boxer,  Geo...   \n",
      "565  [Axel Jodorowsky,  Blanca Guerra,  Guy Stockwe...   \n",
      "566  [Lee Byung, hun,  Shin Min, a,  Yeong, cheol K...   \n",
      "759  [Nanako Matsushima,  Miki Nakatani,  Yûko Take...   \n",
      "766  [Cathal Maguire,  Peter Kelly,  Charlie Berkel...   \n",
      "790  [Rose McGowan,  Freddy Rodríguez,  Josh Brolin...   \n",
      "817  [Clark Gable,  William Powell,  Myrna Loy,  Le...   \n",
      "819  [Stephen Rea,  Fiona Shaw,  Eamonn Owens,  Ala...   \n",
      "856  [Muse Watson,  Carrie Fisher,  Wallace Merck, ...   \n",
      "883  [Samy Naceri,  Frédéric Diefenthal,  Marion Co...   \n",
      "888  [Jack Lemmon,  Jack Gilford,  Laurie Heineman,...   \n",
      "892  [Conor McCarron,  Greg Forrest,  Joe Szula,  M...   \n",
      "907  [Sean Pertwee,  Kevin McKidd,  Emma Cleasby,  ...   \n",
      "909  [Christian Cooke,  Felicity Jones,  Tom Hughes...   \n",
      "920  [James Fox,  Mick Jagger,  Anita Pallenberg,  ...   \n",
      "935  [Belén Rueda,  Lluís Homar,  Pablo Derqui,  Fr...   \n",
      "959  [Christopher Walken,  Chris Penn,  Annabella S...   \n",
      "980  [Lili Taylor,  Christopher Walken,  Annabella ...   \n",
      "\n",
      "                                             Directors  \\\n",
      "65                                      [Billy Wilder]   \n",
      "67                                      [Billy Wilder]   \n",
      "83                                       [Elem Klimov]   \n",
      "98                                    [Robert Bresson]   \n",
      "163                                [Mathieu Kassovitz]   \n",
      "168                                      [Raoul Walsh]   \n",
      "174                                      [Adam Elliot]   \n",
      "176                                [François Truffaut]   \n",
      "179  [Fax Bahr,  George Hickenlooper,  Eleanor Copp...   \n",
      "231                                     [Robert Hamer]   \n",
      "232              [Michael Powell,  Emeric Pressburger]   \n",
      "237                         [Ben Turner,  Gabe Turner]   \n",
      "287                                   [Michael Curtiz]   \n",
      "288                                  [Preston Sturges]   \n",
      "351                                     [Howard Hawks]   \n",
      "415                                   [George Sluizer]   \n",
      "420                                         [John Woo]   \n",
      "494                                   [John Mackenzie]   \n",
      "495                                        [Rob Sitch]   \n",
      "498                                    [Daniel Monzón]   \n",
      "501                                      [Alex Gibney]   \n",
      "565                             [Alejandro Jodorowsky]   \n",
      "566                                    [Jee, woon Kim]   \n",
      "759                                     [Hideo Nakata]   \n",
      "766                 [Lisa Barros D'Sa,  Glenn Leyburn]   \n",
      "790                                 [Robert Rodriguez]   \n",
      "817       [W.S. Van Dyke,  Jack Conway,  George Cukor]   \n",
      "819                                      [Neil Jordan]   \n",
      "856                                   [Dominic Murphy]   \n",
      "883                                     [Gérard Pirès]   \n",
      "888                                 [John G. Avildsen]   \n",
      "892                                     [Peter Mullan]   \n",
      "907                                    [Neil Marshall]   \n",
      "909                 [Ricky Gervais,  Stephen Merchant]   \n",
      "920                    [Donald Cammell,  Nicolas Roeg]   \n",
      "935                                  [Guillem Morales]   \n",
      "959                                     [Abel Ferrara]   \n",
      "980                                     [Abel Ferrara]   \n",
      "\n",
      "                                Genres  \n",
      "65                 [Drama, Film, Noir]  \n",
      "67             [Crime, Drama, Mystery]  \n",
      "83              [Drama, Thriller, War]  \n",
      "98              [Drama, Thriller, War]  \n",
      "163                     [Crime, Drama]  \n",
      "168             [Action, Crime, Drama]  \n",
      "174         [Animation, Comedy, Drama]  \n",
      "176                     [Crime, Drama]  \n",
      "179                      [Documentary]  \n",
      "231                    [Comedy, Crime]  \n",
      "232          [Drama, Fantasy, Romance]  \n",
      "237               [Documentary, Sport]  \n",
      "287         [Crime, Drama, Film, Noir]  \n",
      "288         [Adventure, Comedy, Drama]  \n",
      "351           [Comedy, Drama, Romance]  \n",
      "415                [Mystery, Thriller]  \n",
      "420          [Action, Crime, Thriller]  \n",
      "494            [Crime, Drama, Mystery]  \n",
      "495                    [Comedy, Drama]  \n",
      "498             [Action, Crime, Drama]  \n",
      "501  [Documentary, Biography, History]  \n",
      "565          [Drama, Horror, Thriller]  \n",
      "566             [Action, Crime, Drama]  \n",
      "759                  [Horror, Mystery]  \n",
      "766          [Biography, Drama, Music]  \n",
      "790          [Action, Comedy, Fantasy]  \n",
      "817            [Crime, Drama, Romance]  \n",
      "819                    [Comedy, Drama]  \n",
      "856                 [Biography, Drama]  \n",
      "883            [Action, Comedy, Crime]  \n",
      "888                            [Drama]  \n",
      "892                            [Drama]  \n",
      "907         [Action, Horror, Thriller]  \n",
      "909                    [Comedy, Drama]  \n",
      "920                     [Crime, Drama]  \n",
      "935        [Horror, Mystery, Thriller]  \n",
      "959                     [Crime, Drama]  \n",
      "980                    [Drama, Horror]  \n"
     ]
    }
   ],
   "source": [
    "# We can view the rows with missing Metascore values as follows\n",
    "print(df[df.Metascore.isnull()])"
   ]
  },
  {
   "cell_type": "code",
   "execution_count": 19,
   "id": "5ce966cd",
   "metadata": {},
   "outputs": [
    {
     "name": "stdout",
     "output_type": "stream",
     "text": [
      "               Movie_title  Year  Run_time  Rank  Metascore    Certificate  \\\n",
      "29   It's a Wonderful Life  1946       130   8.6       89.0              G   \n",
      "65        Sunset Boulevard  1950       110   8.4        NaN  PGNot Rated15   \n",
      "66          Paths of Glory  1957        88   8.4       90.0              G   \n",
      "83      Go and have a look  1985       142   8.3        NaN      Not Rated   \n",
      "89   To Kill a Mockingbird  1962       129   8.3       88.0  PGNot Rated13   \n",
      "..                     ...   ...       ...   ...        ...            ...   \n",
      "892                    Ned  2010       124   6.9        NaN      Not Rated   \n",
      "907           Dog Soldiers  2002       105   6.8        NaN              R   \n",
      "909      Cemetery Junction  2010        95   6.8        NaN            18+   \n",
      "935           Julia's eyes  2010       118   6.7        NaN      Not Rated   \n",
      "953         The Loved Ones  2009        84   6.6       73.0              R   \n",
      "\n",
      "     Gross_revenue                                              Stars  \\\n",
      "29             NaN  [James Stewart,  Donna Reed,  Lionel Barrymore...   \n",
      "65             NaN  [William Holden,  Gloria Swanson,  Erich von S...   \n",
      "66             NaN  [Kirk Douglas,  Ralph Meeker,  Adolphe Menjou,...   \n",
      "83             NaN  [Aleksey Kravchenko,  Olga Mironova,  Liubomir...   \n",
      "89             NaN  [Gregory Peck,  John Megna,  Frank Overton,  R...   \n",
      "..             ...                                                ...   \n",
      "892            NaN  [Conor McCarron,  Greg Forrest,  Joe Szula,  M...   \n",
      "907            NaN  [Sean Pertwee,  Kevin McKidd,  Emma Cleasby,  ...   \n",
      "909            NaN  [Christian Cooke,  Felicity Jones,  Tom Hughes...   \n",
      "935            NaN  [Belén Rueda,  Lluís Homar,  Pablo Derqui,  Fr...   \n",
      "953            NaN  [Xavier Samuel,  Robin McLeavy,  John Brumpton...   \n",
      "\n",
      "                              Directors                       Genres  \n",
      "29                        [Frank Capra]     [Drama, Family, Fantasy]  \n",
      "65                       [Billy Wilder]          [Drama, Film, Noir]  \n",
      "66                    [Stanley Kubrick]                 [Drama, War]  \n",
      "83                        [Elem Klimov]       [Drama, Thriller, War]  \n",
      "89                    [Robert Mulligan]               [Crime, Drama]  \n",
      "..                                  ...                          ...  \n",
      "892                      [Peter Mullan]                      [Drama]  \n",
      "907                     [Neil Marshall]   [Action, Horror, Thriller]  \n",
      "909  [Ricky Gervais,  Stephen Merchant]              [Comedy, Drama]  \n",
      "935                   [Guillem Morales]  [Horror, Mystery, Thriller]  \n",
      "953                        [Sean Byrne]              [Crime, Horror]  \n",
      "\n",
      "[61 rows x 10 columns]\n"
     ]
    }
   ],
   "source": [
    "# We can view the rows with missing Metascore values as follows\n",
    "print(df[df.Gross_revenue.isnull()])"
   ]
  },
  {
   "cell_type": "code",
   "execution_count": 20,
   "id": "c757b7e0",
   "metadata": {},
   "outputs": [
    {
     "data": {
      "text/plain": [
       "(999, 10)"
      ]
     },
     "execution_count": 20,
     "metadata": {},
     "output_type": "execute_result"
    }
   ],
   "source": [
    "df.shape"
   ]
  },
  {
   "cell_type": "code",
   "execution_count": null,
   "id": "e2b0d6f8",
   "metadata": {},
   "outputs": [],
   "source": []
  },
  {
   "cell_type": "code",
   "execution_count": null,
   "id": "b529078a",
   "metadata": {},
   "outputs": [],
   "source": []
  },
  {
   "cell_type": "code",
   "execution_count": 21,
   "id": "f1710fda",
   "metadata": {},
   "outputs": [],
   "source": [
    "df.to_csv(r\"C:\\Users\\Asaad_Salem\\Projects\\IMDb-movies\\IMDb-movies-data-cleaned01.csv\")"
   ]
  },
  {
   "cell_type": "code",
   "execution_count": null,
   "id": "31ad5fb1",
   "metadata": {},
   "outputs": [],
   "source": []
  }
 ],
 "metadata": {
  "kernelspec": {
   "display_name": "Python 3 (ipykernel)",
   "language": "python",
   "name": "python3"
  },
  "language_info": {
   "codemirror_mode": {
    "name": "ipython",
    "version": 3
   },
   "file_extension": ".py",
   "mimetype": "text/x-python",
   "name": "python",
   "nbconvert_exporter": "python",
   "pygments_lexer": "ipython3",
   "version": "3.9.7"
  }
 },
 "nbformat": 4,
 "nbformat_minor": 5
}
